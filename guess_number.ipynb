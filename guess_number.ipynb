{
 "cells": [
  {
   "cell_type": "markdown",
   "metadata": {},
   "source": [
    "# Угадай число\n",
    "Нужно написать программу, которая угадывает число за минимальное число попыток.\n",
    "\n",
    "## Условия задачи\n",
    "- Компьютер загадывает целое число от 1 до 100, и нам его нужно угадать. Под «угадать», подразумевается «написать программу, которая угадывает число».    \n",
    "- Алгоритм учитывает информацию о том, больше ли случайное число или меньше нужного нам.\n",
    "- Необходимо добиться того, чтобы программа угадывала число меньше, чем за 20 попыток.\n"
   ]
  },
  {
   "cell_type": "markdown",
   "metadata": {},
   "source": [
    "Импортируем библиотеку, которая нам пригодится для генерации случайных чисел."
   ]
  },
  {
   "cell_type": "code",
   "execution_count": 4,
   "metadata": {},
   "outputs": [],
   "source": [
    "import numpy as np"
   ]
  },
  {
   "cell_type": "markdown",
   "metadata": {},
   "source": [
    "## Функция для оценки"
   ]
  },
  {
   "cell_type": "markdown",
   "metadata": {},
   "source": [
    "Эта функция необходима, чтобы определить, за какое число попыток программа угадывает наше число."
   ]
  },
  {
   "cell_type": "code",
   "execution_count": 20,
   "metadata": {},
   "outputs": [],
   "source": [
    "def score_game(random_predict) -> int:\n",
    "    \"\"\"За какое количество попыток в среднем за 10000 подходов угадывает наш алгоритм\n",
    "\n",
    "    Args:\n",
    "        random_predict ([type]): функция угадывания\n",
    "\n",
    "    Returns:\n",
    "        int: среднее количество попыток\n",
    "    \"\"\"\n",
    "    count_ls = []\n",
    "    #np.random.seed(1)  # фиксируем сид для воспроизводимости\n",
    "    random_array = np.random.randint(1, 101, size=(10000))  # загадали список чисел\n",
    "\n",
    "    for number in random_array:\n",
    "        count_ls.append(random_predict(number))\n",
    "\n",
    "    score = int(np.mean(count_ls))\n",
    "    print(f\"Ваш алгоритм угадывает число в среднем за: {score} попытки\")"
   ]
  },
  {
   "cell_type": "markdown",
   "metadata": {},
   "source": [
    "## Реализация алгоритма"
   ]
  },
  {
   "cell_type": "markdown",
   "metadata": {},
   "source": [
    "Напишем функцию, которая принимает на вход загаданное число и диапазон чисел (опционально), в котором производится \"угадывание\" числа, и возвращает число попыток угадывания."
   ]
  },
  {
   "cell_type": "code",
   "execution_count": 12,
   "metadata": {},
   "outputs": [],
   "source": [
    "def guess_number(number: int, min_num = 1, max_num = 100):\n",
    "    \"\"\" Угадываем число в заданном диапазоне с помощью алгоритма, основанного на бинарном поиске\n",
    "\n",
    "    Args:\n",
    "        number (int): _description_\n",
    "        min_num (int, optional): Минимальное число в диапазоне в соответсвии с условиями задачи. Defaults to 1.\n",
    "        max_num (int, optional): Максимальное число в соответсвии с условиями задачи. Defaults to 100.\n",
    "\n",
    "    Returns:\n",
    "        int: Число попыток\n",
    "    \"\"\"\n",
    "    max_num +=1 #Увеличиваем верхнюю границу на 1, для корректной работы алгоритма при угадывании максимального числа\n",
    "    proposed_number = (min_num+max_num)//2 #Зададим начальное значение посреди указанного в задаче диапазона\n",
    "    num_try = 1 #Зададим начальное значение счетчика попыток\n",
    "    while True:\n",
    "        if proposed_number > number:\n",
    "            max_num = proposed_number #Корректируем максимальное значение диапазона, в котором ведется поиск\n",
    "            proposed_number = (proposed_number + min_num)//2 #Считаем новую середину диапазона\n",
    "            num_try += 1 #Повыщаем счетчик попыток\n",
    "        elif proposed_number < number:\n",
    "            min_num = proposed_number #Корректируем минимальное значение диапазона, в котором ведется поиск\n",
    "            proposed_number = (proposed_number + max_num)//2 #Считаем новую середину диапазона\n",
    "            num_try += 1 #Повыщаем счетчик попыток\n",
    "        else:\n",
    "            break #Выходим из цикла, в случае нахождения числа\n",
    "    return num_try #Возвращаем количество попыток"
   ]
  },
  {
   "cell_type": "markdown",
   "metadata": {},
   "source": [
    "Оценим качество алгоритма по предложенной выше метрике:"
   ]
  },
  {
   "cell_type": "code",
   "execution_count": 22,
   "metadata": {
    "scrolled": true
   },
   "outputs": [
    {
     "name": "stdout",
     "output_type": "stream",
     "text": [
      "Ваш алгоритм угадывает число в среднем за: 5 попытки\n"
     ]
    }
   ],
   "source": [
    "score_game(guess_number)"
   ]
  }
 ],
 "metadata": {
  "kernelspec": {
   "display_name": "Python 3",
   "language": "python",
   "name": "python3"
  },
  "language_info": {
   "codemirror_mode": {
    "name": "ipython",
    "version": 3
   },
   "file_extension": ".py",
   "mimetype": "text/x-python",
   "name": "python",
   "nbconvert_exporter": "python",
   "pygments_lexer": "ipython3",
   "version": "3.8.5"
  }
 },
 "nbformat": 4,
 "nbformat_minor": 4
}
